{
 "cells": [
  {
   "cell_type": "markdown",
   "id": "10ea8c58",
   "metadata": {
    "tags": []
   "source": [
    "# Oe Market Risk Tutorial - Jupyter Notebook"
   ]
  },
  {
   "cell_type": "markdown",
   "id": "7ce6ce49",
   "metadata": {},
   "source": [
    "Author: Fabian Arter, Date: 2022-01-30"
   ]
  },
  {
   "cell_type": "markdown",
   "id": "0def905c",
   "metadata": {},
   "source": [
    "The aim of this notebook is the explain the main concepts of market risk."
   ]
  },
  {
   "cell_type": "code",
   "execution_count": null,
   "id": "02ef7c09-6473-4b60-bf13-eaa0caf5758c",
   "metadata": {},
   "outputs": [],
   "source": []
  },
  {
   "cell_type": "markdown",
   "id": "577433f2-114d-4092-bebf-098f610d301c",
   "metadata": {},
   "source": [
    "## Introduction\n",
    "### Returns\n",
    "#### Historical return types\n",
    "Returns show how a price of an asset has developed over time. This is measured by comparing the price of the same asset during different periods in time. Returns in finance are almost always calculated as relative returns, not in absolute CHF terms.  \n",
    "##### Discrete return\n",
    "The return over a single period in discrete time is calculated as \n",
    "\\begin{equation}\n",
    "R(t)=\\frac{S(t)-S(t-1)}{S(t-1)} \n",
    "\\end{equation}\n",
    "\n",
    "**Discrete returns are not additive but multiplicative**"
   ]
  },
  {
   "cell_type": "code",
   "execution_count": 6,
   "id": "3662b487-2e50-4aa1-ba4b-420c7d2e6338",
   "metadata": {
    "tags": []
   },
   "outputs": [
    {
     "name": "stdout",
     "output_type": "stream",
     "text": [
      "        date price\n",
      "1 2022-01-30  52.0\n",
      "2 2022-01-29  50.0\n",
      "3 2022-01-28  50.5\n",
      "[1] \"most recent daily relative return: 0.04\"\n"
     ]
    }
   ],
   "source": [
    "daily.returns <- data.frame(date=c(Sys.Date(),Sys.Date()-1,Sys.Date()-2), price=c(52,50,50.5))\n",
    "print(daily.returns)\n",
    "most.recent.return.relative <- (daily.returns$price[1]-daily.returns$price[2])/daily.returns$price[2]\n",
    "print(paste(\"most recent daily relative return:\",most.recent.return.relative))"
   ]
  },
  {
   "cell_type": "markdown",
   "id": "bd3e10d1-ae9a-45a2-97a2-6648048d0f53",
   "metadata": {},
   "source": [
    "##### Linear return\n",
    "Linear return refers to the return over different time periods, whereas the inital starting point P0 remains the same. Note that linear returns are hardly used in practise. \n",
    "**Linear returns are additive**"
   ]
  },
  {
   "cell_type": "markdown",
   "id": "5ce6dd7d-23ae-4732-9a6f-831c5a7e7147",
   "metadata": {},
   "source": [
    "\n",
    "##### Continous return\n",
    "however, in finance we usually use the contiously compounded log return\n",
    "\\begin{equation}\n",
    "r(t)=\\ln \\left (   \\frac{S(t)}{S(t-1)}  \\right )\n",
    "\\end{equation}\n",
    "\n",
    "**Continuous returns are additive**\n",
    "\n",
    "#### Scaling (annualization) of returns\n",
    "Usually we express returns and volatility in annual terms, therefore we can annualize the daily rate of returns into annual returns. logarithmic return $R$  and a logarithmic rate of return $r$ over a period of time of length $t$ is: \n",
    "\\begin{equation}\n",
    "R=rt\n",
    "\\end{equation}\n",
    "So if $r$ is the daily return and a year has 252 trading days $t$  our annual return is $R$.\n",
    "\n",
    "\n",
    "#### Excess return\n",
    "\n",
    "The historical excess return is defined as the returns above the return of a risk free $rf$ asset, such as short term treasury bond issed by a country with the highset credit ratings (AAA).\n",
    "\n",
    "It is defined as: $Er = r-rf$\n",
    "\n",
    "#### Expected return\n",
    "The standard method to estimate the expected returns $\\mu$ is the sample mean \\={r}\n",
    "\\begin{equation}\n",
    "\\overline{r}=\\frac{1}{T}\\sum_{t=1}^{T}r_{t}\n",
    "\\end{equation}\n",
    "\n",
    "#### Return of a portfolio\n",
    "\n",
    "We can calculate the expected portfolio return by simply taking the single asset weights multiplied by their single expected returns and build the sum of it. In matrix notions. $m$ contains all the expected returns arranged into a vecor and $\\omega$ is a vector of weights summing up to unity, so we have \n",
    "\n",
    "\\begin{equation}\n",
    " \\mu_{p}=\\omega ^{_{T}}m\n",
    "\\end{equation}\n",
    "\n"
   ]
  },
  {
   "cell_type": "code",
   "execution_count": 7,
   "id": "bcbbff18-c89b-478b-a4e4-7bfdcbcb4cce",
   "metadata": {},
   "outputs": [
    {
     "data": {
      "text/html": [
       "0.0392207131532813"
      ],
      "text/latex": [
       "0.0392207131532813"
      ],
      "text/markdown": [
       "0.0392207131532813"
      ],
      "text/plain": [
       "[1] 0.03922071"
      ]
     },
     "metadata": {},
     "output_type": "display_data"
    }
   ],
   "source": [
    "log(daily.returns$price[1]/daily.returns$price[2])"
   ]
  },
  {
   "cell_type": "markdown",
   "id": "52615a36-f7a6-433f-84aa-a7727b449705",
   "metadata": {},
   "source": [
    "## Volatility"
   ]
  },
  {
   "cell_type": "markdown",
   "id": "7fce5857-3bbe-4f67-97ee-cdb62cca2854",
   "metadata": {},
   "source": [
    "### Variance vs Volatility\n",
    "The variance indicates the risk of an asset or of an entire portfolio, it is the standard deviation $\\sigma$ (volatility) of returns squared $\\sigma^2$. \n"
   ]
  },
  {
   "cell_type": "markdown",
   "id": "b4f4e5d1-5b22-4772-9710-d7c36dcb2c8c",
   "metadata": {},
   "source": [
    "### Volatility of a portfolio\n",
    "The risk of a portfolio can be quantified by computing the variance of the portfolio return, which is equal to $w^T\\Sigma w$ where $w$ is the already introduced weight vector and the $\\Sigma$ is the covariance matrix.\n"
   ]
  },
  {
   "cell_type": "markdown",
   "id": "aeca29ab-866b-4e9d-ad5d-d68a3379ae61",
   "metadata": {},
   "source": [
    "## Covariance\n",
    "\n",
    "### Sample Covariance\n",
    "The sample covariance is defined as follows\n",
    "\\begin{equation}\n",
    "s_{xy}=\\frac{1}{n-1}\\sum_{i=1}^{n}(x_{i}-\\bar{x})(y_{i}-\\bar{y}))\n",
    "\\end{equation}\n",
    "\n",
    "### Correlation\n",
    "\n",
    "\n",
    "### Covariance of Portfolio (Covariance Matrix)\n",
    "The portfolio's covariance is defined as follows\n",
    "\n",
    "\\begin{multline}\n",
    "\\sigma^{2}_p=Var(R_p) \n",
    "= Var\\left ( \\sum_{i=1}^{k}w_i*R_i(t) \\right ) \n",
    "=Cov\\left ( \\sum_{i=1}^{k}w_i*R_i(t),\\sum_{j=1}^{k}w_j*R_j(t) \\right ) \\\\ \n",
    "=\\sum_{i=1}^{k}\\sum_{j=1}^{k}w_i w_jCov(R_i(t),R_j(t)) \n",
    "=w^T\\Sigma w\n",
    "\\end{multline}\n",
    "\n",
    "where $\\Sigma$ is the $k \\times k$ covariance matrix with entries \\(\\sigma\\) = Cov\\( Ri,Rj \\).\n",
    "\n",
    "\n",
    "#### Covariance Matrix Decomposition\n",
    "A covariance matrix can be decomposed into a volatility vector \\(\\sigma\\) and a correlation matrix $R$:\n",
    "\n",
    "We first create a diagonal standard deviation matrix $S$, which looks like this:\n",
    "\n",
    "\n",
    "\n",
    "$S=\\begin{pmatrix}\n",
    "\\sigma _{1} &0  &... &0 \\\\ \n",
    " 0& \\sigma _{2} &... &0 \\\\ \n",
    " \\vdots &  &  \\ddots &0 \\\\ \n",
    "0& ...\\ & ...\\ & \\sigma _{n}\n",
    "\\end{pmatrix}$\n",
    "\n",
    " \n",
    "and the correlation matrix $R$:\n",
    "\n",
    "\n",
    "$R=\\begin{pmatrix}\n",
    "1 & \\rho _{12} &...  &\\rho _{1n}\\\\ \n",
    " \\rho _{21} &1& ... &\\rho _{2n} \\\\ \n",
    " \\vdots &  &  \\ddots & \\\\ \n",
    "\\rho _{n1}& ...\\ & ...\\ & 1\n",
    "\\end{pmatrix}$\n",
    "\n",
    "\n",
    "So our covariance matrix $\\Sigma$ is generated by first multiplying the correlation matrix with the diagonal standard deviation matrix and then again multiplying by the transposed diagonal volatility matrix (as however $S$ is a diagonal matrix, it does not matter whether we take the transposed matrix or not, so $S=S^{^{T}}$). \n",
    "\n",
    "$\\Sigma =SRS$\n",
    "\n",
    "This decomposition can be helpful if we want to control the specific inputs, i.e. the correlation or the volatilites. \n"
   ]
  },
  {
   "cell_type": "code",
   "execution_count": null,
   "id": "a6a8a7d0-af5f-47ce-8fe7-07532917bb60",
   "metadata": {},
   "outputs": [],
   "source": []
  },
  {
   "cell_type": "code",
   "execution_count": null,
   "id": "01a5211d-61fc-4c8b-8c07-61ab4534d7b3",
   "metadata": {},
   "outputs": [],
   "source": []
  },
  {
   "cell_type": "code",
   "execution_count": null,
   "id": "ef627140-a935-4066-b1bb-86d3943beda1",
   "metadata": {},
   "outputs": [],
   "source": []
  },
  {
   "cell_type": "code",
   "execution_count": null,
   "id": "9036da3e-6ab3-49ad-8813-ea1b06ece308",
   "metadata": {},
   "outputs": [],
   "source": []
  },
  {
   "cell_type": "code",
   "execution_count": null,
   "id": "b15f518a-a36a-4690-8396-98f41eb02ae9",
   "metadata": {},
   "outputs": [],
   "source": []
  },
  {
   "cell_type": "code",
   "execution_count": null,
   "id": "b27cef7e-e203-427e-a784-e45f6a4f6d16",
   "metadata": {},
   "outputs": [],
   "source": []
  }
 ],
 "metadata": {
  "kernelspec": {
   "display_name": "R",
   "language": "R",
   "name": "ir"
  },
  "language_info": {
   "codemirror_mode": "r",
   "file_extension": ".r",
   "mimetype": "text/x-r-source",
   "name": "R",
   "pygments_lexer": "r",
   "version": "3.6.1"
  },
  "toc-autonumbering": true,
  "toc-showcode": false,
  "toc-showmarkdowntxt": false
 },
 "nbformat": 4,
 "nbformat_minor": 5
}
